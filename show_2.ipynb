{
 "cells": [
  {
   "cell_type": "code",
   "execution_count": 2,
   "metadata": {},
   "outputs": [],
   "source": [
    "#Human Cyborg Relations\n",
    "import numpy as np"
   ]
  },
  {
   "cell_type": "code",
   "execution_count": 4,
   "metadata": {},
   "outputs": [
    {
     "name": "stdout",
     "output_type": "stream",
     "text": [
      "[78  5 91 68 10  1 67 75 91 23]\n",
      "Ellipsis\n",
      "[32 84 74 41  1 90 47 13 82 18]\n",
      "Ellipsis\n",
      "[2496  420 6734 2788   10   90 3149  975 7462  414]\n"
     ]
    }
   ],
   "source": [
    "set_a = np.random.randint(0, 101, 10)\n",
    "set_b = np.random.randint(0, 101, 10)\n",
    "print(set_a)\n",
    "print(...)\n",
    "print(set_b)\n",
    "print(...)\n",
    "print(set_a*set_b)"
   ]
  },
  {
   "cell_type": "code",
   "execution_count": 5,
   "metadata": {},
   "outputs": [
    {
     "name": "stdout",
     "output_type": "stream",
     "text": [
      "Ellipsis\n",
      "...\n"
     ]
    }
   ],
   "source": [
    "print(...) # Code is cool.\n",
    "print(\"...\")"
   ]
  },
  {
   "cell_type": "markdown",
   "metadata": {},
   "source": []
  },
  {
   "cell_type": "code",
   "execution_count": null,
   "metadata": {},
   "outputs": [],
   "source": []
  }
 ],
 "metadata": {
  "kernelspec": {
   "display_name": "Python 3",
   "language": "python",
   "name": "python3"
  },
  "language_info": {
   "codemirror_mode": {
    "name": "ipython",
    "version": 3
   },
   "file_extension": ".py",
   "mimetype": "text/x-python",
   "name": "python",
   "nbconvert_exporter": "python",
   "pygments_lexer": "ipython3",
   "version": "3.8.5"
  }
 },
 "nbformat": 4,
 "nbformat_minor": 4
}

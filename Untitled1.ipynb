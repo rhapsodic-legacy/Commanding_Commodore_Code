{
 "cells": [
  {
   "cell_type": "code",
   "execution_count": 223,
   "metadata": {},
   "outputs": [],
   "source": [
    "def stop_words(text, k):\n",
    "    stops = [\"a\", \"is\", \"the\"]\n",
    "    word_list = {}\n",
    "    many = \"\"\n",
    "    total = 0\n",
    "    if len(text) > 50000:\n",
    "        return(\"Text too long.\")\n",
    "    for i in text:\n",
    "        if i.islower() or i == ' ':\n",
    "            pass\n",
    "        else:\n",
    "            return(\"Invalid\")\n",
    "    for i in text:\n",
    "        if i.isalpha() or i == ' ':\n",
    "            pass\n",
    "        else:\n",
    "            return(\"Invalid\")\n",
    "        \n",
    "    text_S = text.split(' ')\n",
    "    for i in stops:\n",
    "        \n",
    "        if i in text_S:\n",
    "            total += 1\n",
    "    if total < 1:\n",
    "        return(\"No stop words.\")\n",
    "    for i in text_S:\n",
    "        if i == \"\":\n",
    "            return(\"Invalid\")\n",
    "    \n",
    "        if i in word_list.keys():\n",
    "            word_list[i] += 1\n",
    "        else: word_list[i] = 1\n",
    "    \n",
    "    for i in word_list.keys():\n",
    "        if word_list[i] >= k:\n",
    "            many += i + \" \"\n",
    "    omega = len(many) - 1 \n",
    "          \n",
    "    if k >= 1 and k <= 18:\n",
    "        return(many[0:omega])\n",
    "    else: \n",
    "        return(\"Not valid\")\n",
    "\n",
    "    \n"
   ]
  },
  {
   "cell_type": "code",
   "execution_count": null,
   "metadata": {},
   "outputs": [],
   "source": []
  },
  {
   "cell_type": "code",
   "execution_count": 224,
   "metadata": {},
   "outputs": [
    {
     "data": {
      "text/plain": [
       "'the brown'"
      ]
     },
     "execution_count": 224,
     "metadata": {},
     "output_type": "execute_result"
    }
   ],
   "source": [
    "stop_words(\"the brown fox jumps over the brown dog and runs away to a brown house\", 2)"
   ]
  },
  {
   "cell_type": "code",
   "execution_count": 226,
   "metadata": {},
   "outputs": [
    {
     "data": {
      "text/plain": [
       "'you do'"
      ]
     },
     "execution_count": 226,
     "metadata": {},
     "output_type": "execute_result"
    }
   ],
   "source": [
    "stop_words(\"a good golly miss molly you sure do know how to dance do you not\", 2)"
   ]
  },
  {
   "cell_type": "code",
   "execution_count": 123,
   "metadata": {},
   "outputs": [
    {
     "data": {
      "text/plain": [
       "'Invalid'"
      ]
     },
     "execution_count": 123,
     "metadata": {},
     "output_type": "execute_result"
    }
   ],
   "source": [
    "stop_words(\"the brown, fox jumps over the brown dog and runs away to a brown house\", 0)"
   ]
  },
  {
   "cell_type": "code",
   "execution_count": null,
   "metadata": {},
   "outputs": [],
   "source": []
  },
  {
   "cell_type": "code",
   "execution_count": null,
   "metadata": {},
   "outputs": [],
   "source": []
  }
 ],
 "metadata": {
  "kernelspec": {
   "display_name": "Python 3",
   "language": "python",
   "name": "python3"
  },
  "language_info": {
   "codemirror_mode": {
    "name": "ipython",
    "version": 3
   },
   "file_extension": ".py",
   "mimetype": "text/x-python",
   "name": "python",
   "nbconvert_exporter": "python",
   "pygments_lexer": "ipython3",
   "version": "3.8.5"
  }
 },
 "nbformat": 4,
 "nbformat_minor": 4
}

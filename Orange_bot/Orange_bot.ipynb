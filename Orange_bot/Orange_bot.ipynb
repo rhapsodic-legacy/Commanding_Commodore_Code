{
 "cells": [
  {
   "cell_type": "markdown",
   "metadata": {},
   "source": [
    "## Orange-bot\n",
    "#### A quick to train, resource-light retreival chatbot. \n",
    "##### Easy to learn how to build, easier to implement. "
   ]
  },
  {
   "cell_type": "code",
   "execution_count": null,
   "metadata": {},
   "outputs": [],
   "source": []
  },
  {
   "cell_type": "markdown",
   "metadata": {},
   "source": [
    "##### 0) Load data preprocessing libraries\n",
    "###### (If you are getting 'can not be found' errors, copy the error message and paste it into a search engine. Stack Overflow will have your answer.)"
   ]
  },
  {
   "cell_type": "code",
   "execution_count": 2,
   "metadata": {},
   "outputs": [],
   "source": [
    "# Pandas is a dataframe tool, the skeletal scaffolding of Orange. \n",
    "# Numpy is a math related extension for Python; necessary for Orange's brain, whom sees numbers where we see words. \n",
    "import pandas as pd\n",
    "import numpy as np\n",
    "\n",
    "# Scikit learn is a Swiss Army knife for data scientists, with many tools in its folds. \n",
    "# TfidfVectorizer will turn words into numbers to allow Orange to see our text.\n",
    "# Cosine Similarity allows Orange to draw relationships between words. \n",
    "from sklearn.feature_extraction.text import TfidfVectorizer\n",
    "from sklearn.metrics.pairwise import cosine_similarity"
   ]
  },
  {
   "cell_type": "markdown",
   "metadata": {},
   "source": [
    "##### 1) Read the Data"
   ]
  },
  {
   "cell_type": "code",
   "execution_count": 25,
   "metadata": {},
   "outputs": [],
   "source": [
    "# Using Pandas, import the Amazon Web Service FAQ\n",
    "df = pd.read_csv(\"aws_faq.csv\")\n",
    "df.dropna(inplace=True)"
   ]
  },
  {
   "cell_type": "markdown",
   "metadata": {},
   "source": [
    "##### 2) Teach Orange to learn from the vectorized words."
   ]
  },
  {
   "cell_type": "code",
   "execution_count": 10,
   "metadata": {},
   "outputs": [
    {
     "data": {
      "text/plain": [
       "TfidfVectorizer()"
      ]
     },
     "execution_count": 10,
     "metadata": {},
     "output_type": "execute_result"
    }
   ],
   "source": [
    "# Here is a grand union of Numpy, Pandas and scikit learn; without which these two lines of code would be hundreds in length. \n",
    "vectorize = TfidfVectorizer()\n",
    "vectorize.fit(np.concatenate((df.Question, df.Answer)))"
   ]
  },
  {
   "cell_type": "markdown",
   "metadata": {},
   "source": [
    "##### 3) Turn the questions into vectors. "
   ]
  },
  {
   "cell_type": "code",
   "execution_count": 14,
   "metadata": {},
   "outputs": [],
   "source": [
    "question_to_vectors = vectorize.transform(df.Question)"
   ]
  },
  {
   "cell_type": "markdown",
   "metadata": {},
   "source": [
    "##### 4) Build a basic interface where users can chat with Orange. "
   ]
  },
  {
   "cell_type": "code",
   "execution_count": 27,
   "metadata": {},
   "outputs": [
    {
     "name": "stdout",
     "output_type": "stream",
     "text": [
      "Hello dear friend, what would you like to say? Say 'Bye' to leave me to my solitude. Please don't say 'Bye'...\n"
     ]
    },
    {
     "name": "stdin",
     "output_type": "stream",
     "text": [
      " Bye\n"
     ]
    },
    {
     "name": "stdout",
     "output_type": "stream",
     "text": [
      "Well... I guess this is it... Parting is such sweet sorrow. *sniff*\n"
     ]
    }
   ],
   "source": [
    "print(\"Hello dear friend, what would you like to say? Say 'Bye' to leave me to my solitude. Please don't say 'Bye'...\")\n",
    "while True:\n",
    "    \n",
    "    # User input\n",
    "    user_question = input()\n",
    "    \n",
    "    if user_question == 'Bye':\n",
    "        print(\"Well... I guess this is it... Parting is such sweet sorrow. *sniff*\")\n",
    "        break\n",
    "\n",
    "    # Orange looks for all applicable answers \n",
    "    input_question_vector = vectorize.transform([user_question])\n",
    "\n",
    "    # Orange uses cosine similarity to calculate connections between user's words and recorded question-answer pairs\n",
    "    deduction = cosine_similarity(input_question_vector, question_to_vectors)\n",
    "\n",
    "    # Orange decides which question-answer pair is most appropriate and conjures forth the answer. \n",
    "    best = np.argmax(deduction, axis=1)\n",
    "\n",
    "    # Orange replies with the answer\n",
    "    print(\"Orange: \" + df.Answer.iloc[best].values[0])"
   ]
  },
  {
   "cell_type": "markdown",
   "metadata": {},
   "source": [
    "###### Play around with the questions and answers, witness the human-perfect dictation, yet dire limitation in responsiveness. This is a simple retrieval-based chatbot with a rather large pregenerated corpus provided by Amazon. \n",
    "###### Open the .csv file and peruse the large volume of questions and answers. Imagine the amount of work required to create a useful corpus of your own to answer potential questions and then training a retreival chatbot like Orange-bot on it. Only to have this frustrating lack of responsiveness. \n"
   ]
  },
  {
   "cell_type": "markdown",
   "metadata": {},
   "source": [
    "\n",
    "\n",
    "##### Despite being far more experimental, difficult to create and computationally expensive; this is why 'generative chatbots' are the future. Which leads us to Grape-bot, the next bot you'll be introduced to. Until then, stay curious!"
   ]
  },
  {
   "cell_type": "code",
   "execution_count": null,
   "metadata": {},
   "outputs": [],
   "source": []
  },
  {
   "cell_type": "code",
   "execution_count": null,
   "metadata": {},
   "outputs": [],
   "source": []
  }
 ],
 "metadata": {
  "kernelspec": {
   "display_name": "Python 3",
   "language": "python",
   "name": "python3"
  },
  "language_info": {
   "codemirror_mode": {
    "name": "ipython",
    "version": 3
   },
   "file_extension": ".py",
   "mimetype": "text/x-python",
   "name": "python",
   "nbconvert_exporter": "python",
   "pygments_lexer": "ipython3",
   "version": "3.8.5"
  }
 },
 "nbformat": 4,
 "nbformat_minor": 4
}
